{
 "cells": [
  {
   "cell_type": "code",
   "execution_count": 1,
   "metadata": {},
   "outputs": [],
   "source": [
    "import pandas as pd\n",
    "import numpy as np\n",
    "import matplotlib.pyplot as plt\n",
    "import seaborn as sns\n"
   ]
  },
  {
   "cell_type": "code",
   "execution_count": 3,
   "metadata": {},
   "outputs": [
    {
     "data": {
      "text/plain": [
       "<Figure size 640x480 with 0 Axes>"
      ]
     },
     "metadata": {},
     "output_type": "display_data"
    }
   ],
   "source": [
    "values = [45.09, 36.12, 39.03, 50.23, 65.16] # cowpox\n",
    "#values = [50.84, 41.25, 42.34, 51.08, 59.98] # herpes\n",
    "names = ['Rattus Norvegicus', 'Pteropus alecto', 'Gallus gallus', 'Chlorocebus sabaeus', 'Homo Sapiens']\n",
    "colors = ['orange' if value < 45.0 else '#1f77b4' for value in values]\n",
    "\n",
    "barplot = plt.bar(names, values, color=colors)\n",
    "\n",
    "plt.title('Database Suitabilities of different Host Databases')\n",
    "plt.ylabel('Suitability')\n",
    "plt.xlabel('Host')\n",
    "plt.xticks(rotation=45, ha='right')\n",
    "for i, search_step in enumerate(barplot):\n",
    "    plt.text(search_step.get_x() + search_step.get_width()/2, values[i], round(values[i], 2), ha='center', va='bottom')\n",
    "    \n",
    "plt.savefig(\"/Users/julian/Projects/Masterarbeit/Results/Cowpox_different_dbs_bar_plot.png\", dpi=300, bbox_inches=\"tight\")\n",
    "#plt.savefig(\"/Users/julian/Projects/Masterarbeit/Results/Herpes_different_dbs_bar_plot.png\", dpi=300, bbox_inches=\"tight\")\n",
    "plt.clf()\n",
    "    "
   ]
  }
 ],
 "metadata": {
  "kernelspec": {
   "display_name": "dbbias",
   "language": "python",
   "name": "python3"
  },
  "language_info": {
   "codemirror_mode": {
    "name": "ipython",
    "version": 3
   },
   "file_extension": ".py",
   "mimetype": "text/x-python",
   "name": "python",
   "nbconvert_exporter": "python",
   "pygments_lexer": "ipython3",
   "version": "3.12.0"
  }
 },
 "nbformat": 4,
 "nbformat_minor": 2
}
